{
 "cells": [
  {
   "cell_type": "code",
   "execution_count": 5,
   "id": "1ab592cc",
   "metadata": {},
   "outputs": [],
   "source": [
    "import numpy as np\n",
    "import pandas as pd\n",
    "import json\n",
    "from sklearn.model_selection import train_test_split\n",
    "from sklearn.linear_model import LogisticRegression\n",
    "from sklearn.ensemble import RandomForestClassifier\n",
    "from sklearn.metrics import classification_report, confusion_matrix, accuracy_score\n",
    "import lightgbm as lgb\n",
    "import warnings\n",
    "warnings.filterwarnings('ignore')"
   ]
  },
  {
   "cell_type": "markdown",
   "id": "25a6dfcb",
   "metadata": {},
   "source": [
    "### データ読み込み"
   ]
  },
  {
   "cell_type": "code",
   "execution_count": 12,
   "id": "b239b164",
   "metadata": {},
   "outputs": [
    {
     "name": "stdout",
     "output_type": "stream",
     "text": [
      "ユーザー特徴量の形状: (56, 20)\n",
      "ユーザーマッピング数: 56\n",
      "性別分布:\n",
      "gender\n",
      "1    34\n",
      "2    22\n",
      "Name: count, dtype: int64\n",
      "\n",
      "=== データセットの準備 ===\n",
      "特徴量の形状: (56, 20)\n",
      "ラベルの形状: (56,)\n",
      "性別分布（分類用）:\n",
      "  性別 1: 34人\n",
      "  性別 2: 22人\n"
     ]
    }
   ],
   "source": [
    "# ユーザー特徴量を読み込み\n",
    "user_features = np.load('user_features_standard.npy')\n",
    "print(f\"ユーザー特徴量の形状: {user_features.shape}\")\n",
    "\n",
    "# ユーザーマッピングを読み込み\n",
    "with open('user_mapping_standard.json', 'r') as f:\n",
    "    user_mapping = json.load(f)\n",
    "print(f\"ユーザーマッピング数: {len(user_mapping)}\")\n",
    "\n",
    "# BigQueryデータから性別情報を取得\n",
    "df = pd.read_csv('bigquery_results.csv')\n",
    "\n",
    "# 各ユーザーの性別を取得（最も頻度の高い性別を使用）\n",
    "user_gender = df.groupby('common_id')['gender'].agg(lambda x: x.mode().iloc[0] if len(x.mode()) > 0 else x.iloc[0])\n",
    "\n",
    "print(f\"性別分布:\")\n",
    "print(user_gender.value_counts())\n",
    "\n",
    "# ユーザー特徴量と性別ラベルを対応付け\n",
    "X = []\n",
    "y = []\n",
    "user_ids = []\n",
    "\n",
    "for i, (user_id, features) in enumerate(zip(user_mapping.keys(), user_features)):\n",
    "    if user_id in user_gender.index:\n",
    "        X.append(features)\n",
    "        y.append(user_gender[user_id])\n",
    "        user_ids.append(user_id)\n",
    "\n",
    "X = np.array(X)\n",
    "y = np.array(y)\n",
    "\n",
    "print(f\"\\n=== データセットの準備 ===\")\n",
    "print(f\"特徴量の形状: {X.shape}\")\n",
    "print(f\"ラベルの形状: {y.shape}\")\n",
    "print(f\"性別分布（分類用）:\")\n",
    "unique, counts = np.unique(y, return_counts=True)\n",
    "for gender, count in zip(unique, counts):\n",
    "    print(f\"  性別 {gender}: {count}人\")\n"
   ]
  },
  {
   "cell_type": "code",
   "execution_count": 13,
   "id": "37ea9da0",
   "metadata": {},
   "outputs": [
    {
     "name": "stdout",
     "output_type": "stream",
     "text": [
      "訓練データ: 39サンプル\n",
      "テストデータ: 17サンプル\n"
     ]
    }
   ],
   "source": [
    "# データを訓練・テストに分割\n",
    "X_train, X_test, y_train, y_test = train_test_split(\n",
    "    X, y, test_size=0.3, random_state=42, stratify=y\n",
    ")\n",
    "\n",
    "print(f\"訓練データ: {X_train.shape[0]}サンプル\")\n",
    "print(f\"テストデータ: {X_test.shape[0]}サンプル\")"
   ]
  },
  {
   "cell_type": "markdown",
   "id": "64b73b88",
   "metadata": {},
   "source": [
    "### 学習"
   ]
  },
  {
   "cell_type": "code",
   "execution_count": 14,
   "id": "99594c05",
   "metadata": {},
   "outputs": [
    {
     "name": "stdout",
     "output_type": "stream",
     "text": [
      "\n",
      "--- Logistic Regression ---\n",
      "精度: 0.5882\n",
      "分類レポート:\n",
      "              precision    recall  f1-score   support\n",
      "\n",
      "           1       0.59      1.00      0.74        10\n",
      "           2       0.00      0.00      0.00         7\n",
      "\n",
      "    accuracy                           0.59        17\n",
      "   macro avg       0.29      0.50      0.37        17\n",
      "weighted avg       0.35      0.59      0.44        17\n",
      "\n",
      "\n",
      "--- Random Forest ---\n",
      "精度: 0.7059\n",
      "分類レポート:\n",
      "              precision    recall  f1-score   support\n",
      "\n",
      "           1       0.73      0.80      0.76        10\n",
      "           2       0.67      0.57      0.62         7\n",
      "\n",
      "    accuracy                           0.71        17\n",
      "   macro avg       0.70      0.69      0.69        17\n",
      "weighted avg       0.70      0.71      0.70        17\n",
      "\n"
     ]
    }
   ],
   "source": [
    "classifiers = {\n",
    "    'Logistic Regression': LogisticRegression(random_state=42, max_iter=1000),\n",
    "    'Random Forest': RandomForestClassifier(n_estimators=100, random_state=42),\n",
    "}\n",
    "\n",
    "results = {}\n",
    "\n",
    "for name, clf in classifiers.items():\n",
    "    print(f\"\\n--- {name} ---\")\n",
    "    \n",
    "    # 訓練\n",
    "    clf.fit(X_train, y_train)\n",
    "    \n",
    "    # 予測\n",
    "    y_pred = clf.predict(X_test)\n",
    "    \n",
    "    # 評価\n",
    "    accuracy = accuracy_score(y_test, y_pred)\n",
    "    \n",
    "    print(f\"精度: {accuracy:.4f}\")\n",
    "    print(f\"分類レポート:\")\n",
    "    print(classification_report(y_test, y_pred))\n"
   ]
  },
  {
   "cell_type": "code",
   "execution_count": null,
   "id": "df446ba8",
   "metadata": {},
   "outputs": [],
   "source": []
  }
 ],
 "metadata": {
  "kernelspec": {
   "display_name": ".venv",
   "language": "python",
   "name": "python3"
  },
  "language_info": {
   "codemirror_mode": {
    "name": "ipython",
    "version": 3
   },
   "file_extension": ".py",
   "mimetype": "text/x-python",
   "name": "python",
   "nbconvert_exporter": "python",
   "pygments_lexer": "ipython3",
   "version": "3.11.13"
  }
 },
 "nbformat": 4,
 "nbformat_minor": 5
}
