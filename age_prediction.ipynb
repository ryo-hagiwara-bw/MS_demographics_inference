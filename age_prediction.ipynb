{
 "cells": [
  {
   "cell_type": "code",
   "execution_count": 1,
   "id": "1ab592cc",
   "metadata": {},
   "outputs": [],
   "source": [
    "import numpy as np\n",
    "import pandas as pd\n",
    "import json\n",
    "from sklearn.model_selection import train_test_split, cross_val_score\n",
    "from sklearn.linear_model import LinearRegression, Ridge, Lasso\n",
    "from sklearn.ensemble import RandomForestRegressor\n",
    "from sklearn.metrics import mean_absolute_error, mean_squared_error, r2_score\n",
    "import lightgbm as lgb\n",
    "import warnings\n",
    "warnings.filterwarnings('ignore')"
   ]
  },
  {
   "cell_type": "markdown",
   "id": "25a6dfcb",
   "metadata": {},
   "source": [
    "### データ読み込み"
   ]
  },
  {
   "cell_type": "code",
   "execution_count": 2,
   "id": "6bf28b81",
   "metadata": {},
   "outputs": [
    {
     "name": "stdout",
     "output_type": "stream",
     "text": [
      "ユーザー特徴量の形状: (56, 20)\n",
      "ユーザーマッピング数: 56\n",
      "年齢分布:\n",
      "  20歳: 14人\n",
      "  30歳: 6人\n",
      "  40歳: 11人\n",
      "  50歳: 14人\n",
      "  60歳: 11人\n",
      "\n",
      "=== データセットの準備 ===\n",
      "特徴量の形状: (56, 20)\n",
      "ラベルの形状: (56,)\n",
      "年齢の統計情報:\n",
      "  平均年齢: 40.36歳\n",
      "  標準偏差: 14.63歳\n",
      "  最小年齢: 20歳\n",
      "  最大年齢: 60歳\n",
      "  年齢範囲: 40歳\n"
     ]
    }
   ],
   "source": [
    "# ユーザー特徴量を読み込み\n",
    "user_features = np.load('user_features_standard.npy')\n",
    "print(f\"ユーザー特徴量の形状: {user_features.shape}\")\n",
    "\n",
    "# ユーザーマッピングを読み込み\n",
    "with open('user_mapping_standard.json', 'r') as f:\n",
    "    user_mapping = json.load(f)\n",
    "print(f\"ユーザーマッピング数: {len(user_mapping)}\")\n",
    "\n",
    "# BigQueryデータから年齢情報を取得\n",
    "df = pd.read_csv('bigquery_results.csv')\n",
    "\n",
    "# 各ユーザーの年齢を取得（最も頻度の高い年齢を使用）\n",
    "user_age = df.groupby('common_id')['age'].agg(lambda x: x.mode().iloc[0] if len(x.mode()) > 0 else x.iloc[0])\n",
    "\n",
    "print(f\"年齢分布:\")\n",
    "age_counts = user_age.value_counts().sort_index()\n",
    "for age, count in age_counts.items():\n",
    "    print(f\"  {age}歳: {count}人\")\n",
    "\n",
    "# ユーザー特徴量と年齢ラベルを対応付け\n",
    "X = []\n",
    "y = []\n",
    "user_ids = []\n",
    "\n",
    "for i, (user_id, features) in enumerate(zip(user_mapping.keys(), user_features)):\n",
    "    if user_id in user_age.index:\n",
    "        X.append(features)\n",
    "        y.append(user_age[user_id])\n",
    "        user_ids.append(user_id)\n",
    "\n",
    "X = np.array(X)\n",
    "y = np.array(y)\n",
    "\n",
    "print(f\"\\n=== データセットの準備 ===\")\n",
    "print(f\"特徴量の形状: {X.shape}\")\n",
    "print(f\"ラベルの形状: {y.shape}\")\n",
    "print(f\"年齢の統計情報:\")\n",
    "print(f\"  平均年齢: {np.mean(y):.2f}歳\")\n",
    "print(f\"  標準偏差: {np.std(y):.2f}歳\")\n",
    "print(f\"  最小年齢: {np.min(y)}歳\")\n",
    "print(f\"  最大年齢: {np.max(y)}歳\")\n",
    "print(f\"  年齢範囲: {np.max(y) - np.min(y)}歳\")"
   ]
  },
  {
   "cell_type": "code",
   "execution_count": 3,
   "id": "b6acebb1",
   "metadata": {},
   "outputs": [
    {
     "name": "stdout",
     "output_type": "stream",
     "text": [
      "訓練データ: 39サンプル\n",
      "テストデータ: 17サンプル\n"
     ]
    }
   ],
   "source": [
    "# データを訓練・テストに分割\n",
    "X_train, X_test, y_train, y_test = train_test_split(\n",
    "    X, y, test_size=0.3, random_state=42\n",
    ")\n",
    "\n",
    "print(f\"訓練データ: {X_train.shape[0]}サンプル\")\n",
    "print(f\"テストデータ: {X_test.shape[0]}サンプル\")"
   ]
  },
  {
   "cell_type": "markdown",
   "id": "f4989776",
   "metadata": {},
   "source": [
    "### 学習"
   ]
  },
  {
   "cell_type": "code",
   "execution_count": 8,
   "id": "cb7b9c52",
   "metadata": {},
   "outputs": [
    {
     "name": "stdout",
     "output_type": "stream",
     "text": [
      "\n",
      "--- Linear Regression ---\n",
      "MAE: 15840653.6746\n",
      "RMSE: 64835439.3474\n",
      "R²: -21313162850229.4609\n",
      "予測結果の統計:\n",
      "  実際の年齢範囲: 20-60歳\n",
      "  予測年齢範囲: -1415300.1-267319188.7歳\n",
      "  予測誤差の平均: 15840653.67歳\n",
      "  予測誤差の標準偏差: 62870564.55歳\n",
      "\n",
      "--- Ridge Regression ---\n",
      "MAE: 12.9171\n",
      "RMSE: 15.1394\n",
      "R²: -0.1621\n",
      "予測結果の統計:\n",
      "  実際の年齢範囲: 20-60歳\n",
      "  予測年齢範囲: 40.5-47.5歳\n",
      "  予測誤差の平均: 12.92歳\n",
      "  予測誤差の標準偏差: 7.90歳\n",
      "\n",
      "--- Lasso Regression ---\n",
      "MAE: 13.4790\n",
      "RMSE: 16.3422\n",
      "R²: -0.3541\n",
      "予測結果の統計:\n",
      "  実際の年齢範囲: 20-60歳\n",
      "  予測年齢範囲: 39.5-58.3歳\n",
      "  予測誤差の平均: 13.48歳\n",
      "  予測誤差の標準偏差: 9.24歳\n",
      "\n",
      "--- Random Forest ---\n",
      "MAE: 12.0765\n",
      "RMSE: 14.0901\n",
      "R²: -0.0066\n",
      "予測結果の統計:\n",
      "  実際の年齢範囲: 20-60歳\n",
      "  予測年齢範囲: 31.8-50.5歳\n",
      "  予測誤差の平均: 12.08歳\n",
      "  予測誤差の標準偏差: 7.26歳\n"
     ]
    }
   ],
   "source": [
    "models = {\n",
    "    'Linear Regression': LinearRegression(),\n",
    "    'Ridge Regression': Ridge(alpha=1.0, random_state=42),\n",
    "    'Lasso Regression': Lasso(alpha=0.1, random_state=42),\n",
    "    'Random Forest': RandomForestRegressor(n_estimators=100, random_state=42),\n",
    "}\n",
    "\n",
    "results = {}\n",
    "\n",
    "for name, model in models.items():\n",
    "    print(f\"\\n--- {name} ---\")\n",
    "    \n",
    "    # 訓練\n",
    "    model.fit(X_train, y_train)\n",
    "    \n",
    "    # 予測\n",
    "    y_pred = model.predict(X_test)\n",
    "    \n",
    "    # 評価指標を計算\n",
    "    mae = mean_absolute_error(y_test, y_pred)\n",
    "    mse = mean_squared_error(y_test, y_pred)\n",
    "    rmse = np.sqrt(mse)\n",
    "    r2 = r2_score(y_test, y_pred)\n",
    "    \n",
    "    print(f\"MAE: {mae:.4f}\")\n",
    "    print(f\"RMSE: {rmse:.4f}\")\n",
    "    print(f\"R²: {r2:.4f}\")\n",
    "    \n",
    "    # 予測結果の詳細\n",
    "    print(f\"予測結果の統計:\")\n",
    "    print(f\"  実際の年齢範囲: {np.min(y_test)}-{np.max(y_test)}歳\")\n",
    "    print(f\"  予測年齢範囲: {np.min(y_pred):.1f}-{np.max(y_pred):.1f}歳\")\n",
    "    print(f\"  予測誤差の平均: {np.mean(np.abs(y_test - y_pred)):.2f}歳\")\n",
    "    print(f\"  予測誤差の標準偏差: {np.std(np.abs(y_test - y_pred)):.2f}歳\")"
   ]
  },
  {
   "cell_type": "code",
   "execution_count": 11,
   "id": "22cf9f2a",
   "metadata": {},
   "outputs": [
    {
     "name": "stdout",
     "output_type": "stream",
     "text": [
      "[50 40 20 60 20 20 40 20 30 60 30 40 50 50 20 50 30]\n",
      "[34.9 42.8 50.5 44.2 32.6 35.8 40.  33.9 43.8 38.6 46.  44.1 45.7 38.3\n",
      " 31.8 45.2 40.9]\n"
     ]
    }
   ],
   "source": [
    "# Random Forest\n",
    "print(y_test)\n",
    "print(y_pred)"
   ]
  },
  {
   "cell_type": "markdown",
   "id": "988185a7",
   "metadata": {},
   "source": [
    "### クロスバリデーション"
   ]
  },
  {
   "cell_type": "code",
   "execution_count": 12,
   "id": "497bae93",
   "metadata": {},
   "outputs": [
    {
     "name": "stdout",
     "output_type": "stream",
     "text": [
      "\n",
      "--- Linear Regression クロスバリデーション ---\n",
      "MAE - 各フォールド: [1.10119619e+07 3.50125220e+03 3.69728852e+05 5.48122021e+09\n",
      " 7.73045898e+03]\n",
      "MAE - 平均: 1098522626.4347 (+/- 4382705701.5695)\n",
      "MSE - 各フォールド: [1.45318150e+15 4.56600495e+07 8.49239689e+11 3.30480771e+20\n",
      " 3.70406099e+08]\n",
      "MSE - 平均: 66096445031804223488.0000 (+/- 264384326098460606464.0000)\n",
      "\n",
      "--- Ridge Regression クロスバリデーション ---\n",
      "MAE - 各フォールド: [13.25420677 13.22653853 13.824854   11.50666199 14.2066766 ]\n",
      "MAE - 平均: 13.2038 (+/- 1.8493)\n",
      "MSE - 各フォールド: [256.47614765 221.71989884 234.78920383 208.5409783  253.39610167]\n",
      "MSE - 平均: 234.9845 (+/- 36.6183)\n",
      "\n",
      "--- Lasso Regression クロスバリデーション ---\n",
      "MAE - 各フォールド: [13.89190288 13.69380924 13.75900898 11.64282677 14.7168532 ]\n",
      "MAE - 平均: 13.5409 (+/- 2.0356)\n",
      "MSE - 各フォールド: [299.11461076 247.77555678 231.41600538 209.75872344 275.54653352]\n",
      "MSE - 平均: 252.7223 (+/- 63.2297)\n",
      "\n",
      "--- Random Forest クロスバリデーション ---\n",
      "MAE - 各フォールド: [13.45833333 11.89090909 11.33636364 12.1        13.76363636]\n",
      "MAE - 平均: 12.5098 (+/- 1.8761)\n",
      "MSE - 各フォールド: [237.3625     188.41636364 208.84272727 200.20454545 243.82363636]\n",
      "MSE - 平均: 215.7300 (+/- 42.8180)\n"
     ]
    }
   ],
   "source": [
    "# 回帰モデルを定義\n",
    "from sklearn.model_selection import KFold\n",
    "\n",
    "models = {\n",
    "    'Linear Regression': LinearRegression(),\n",
    "    'Ridge Regression': Ridge(alpha=1.0, random_state=42),\n",
    "    'Lasso Regression': Lasso(alpha=0.1, random_state=42),\n",
    "    'Random Forest': RandomForestRegressor(n_estimators=100, random_state=42),\n",
    "}\n",
    "\n",
    "cv = KFold(n_splits=5, shuffle=True, random_state=42)\n",
    "\n",
    "for name, model in models.items():\n",
    "    print(f\"\\n--- {name} クロスバリデーション ---\")\n",
    "    \n",
    "    # MAEでクロスバリデーション\n",
    "    mae_scores = cross_val_score(model, X, y, cv=cv, scoring='neg_mean_absolute_error')\n",
    "    mae_scores = -mae_scores  # 負の値を正の値に変換\n",
    "    \n",
    "    # MSEでクロスバリデーション\n",
    "    mse_scores = cross_val_score(model, X, y, cv=cv, scoring='neg_mean_squared_error')\n",
    "    mse_scores = -mse_scores  # 負の値を正の値に変換\n",
    "    \n",
    "    print(f\"MAE - 各フォールド: {mae_scores}\")\n",
    "    print(f\"MAE - 平均: {mae_scores.mean():.4f} (+/- {mae_scores.std() * 2:.4f})\")\n",
    "    print(f\"MSE - 各フォールド: {mse_scores}\")\n",
    "    print(f\"MSE - 平均: {mse_scores.mean():.4f} (+/- {mse_scores.std() * 2:.4f})\")"
   ]
  },
  {
   "cell_type": "code",
   "execution_count": null,
   "id": "00d6aedc",
   "metadata": {},
   "outputs": [],
   "source": []
  }
 ],
 "metadata": {
  "kernelspec": {
   "display_name": ".venv",
   "language": "python",
   "name": "python3"
  },
  "language_info": {
   "codemirror_mode": {
    "name": "ipython",
    "version": 3
   },
   "file_extension": ".py",
   "mimetype": "text/x-python",
   "name": "python",
   "nbconvert_exporter": "python",
   "pygments_lexer": "ipython3",
   "version": "3.11.13"
  }
 },
 "nbformat": 4,
 "nbformat_minor": 5
}
